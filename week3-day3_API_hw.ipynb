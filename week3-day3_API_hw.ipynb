{
 "cells": [
  {
   "cell_type": "markdown",
   "metadata": {},
   "source": [
    "# Exercise"
   ]
  },
  {
   "cell_type": "markdown",
   "metadata": {},
   "source": [
    "#### Pokemon API Wrapper"
   ]
  },
  {
   "cell_type": "markdown",
   "metadata": {},
   "source": [
    "Create a python wrapper for the Pokemon API. It should take in a pokemon name and display the pokemon with its height and weight"
   ]
  },
  {
   "cell_type": "code",
   "execution_count": 12,
   "metadata": {},
   "outputs": [],
   "source": [
    "# inputs: name\n",
    "# outputs: name, height, weight\n",
    "\n",
    "import requests\n",
    "\n",
    "class PokeAPI:\n",
    "    def __init__(self):\n",
    "        self.base_url = 'https://pokeapi.co/api/v2/pokemon'\n",
    "\n",
    "    def _get(self, poke_name, api_method):\n",
    "        request_url = f\"{base_url}{api_method}{poke_name}\"\n",
    "        poke_response = requests.get(request_url)\n",
    "        if poke_response.ok:\n",
    "            return poke_response.json()\n",
    "        else:\n",
    "            print('There was an error')\n",
    "     \n",
    "    def get_poke_info(self, poke_name):\n",
    "        poke_info = self._get(poke_name, '/current.json')\n",
    "        height = poke_info['stats']['height']\n",
    "        weight = poke_info['stats']['weight']\n",
    "       \n",
    "        # create an instance of object PokeAPI\n",
    "        poke_instance = PokeAPI(height, weight)\n",
    "        return poke_instance\n",
    "    "
   ]
  },
  {
   "cell_type": "code",
   "execution_count": 13,
   "metadata": {},
   "outputs": [],
   "source": [
    "def pokedex():\n",
    "    my_poke_api = PokeAPI()\n",
    "    while True:\n",
    "        poke_name = input('What Pokemon? ')\n",
    "        my_poke_api.get_poke_info(poke_name)\n",
    "        print(my_poke_api)\n",
    "        \n",
    "        "
   ]
  }
 ],
 "metadata": {
  "kernelspec": {
   "display_name": "Python 3 (ipykernel)",
   "language": "python",
   "name": "python3"
  },
  "language_info": {
   "codemirror_mode": {
    "name": "ipython",
    "version": 3
   },
   "file_extension": ".py",
   "mimetype": "text/x-python",
   "name": "python",
   "nbconvert_exporter": "python",
   "pygments_lexer": "ipython3",
   "version": "3.9.7"
  }
 },
 "nbformat": 4,
 "nbformat_minor": 4
}
